{
  "cells": [
    {
      "cell_type": "markdown",
      "metadata": {},
      "source": [
        "**IMOPRTING LIBRARIES**"
      ]
    },
    {
      "cell_type": "code",
      "execution_count": null,
      "metadata": {},
      "outputs": [],
      "source": [
        "import numpy as np\n",
        "import matplotlib.pyplot as plt\n",
        "import pandas as pd\n",
        "from sklearn.tree import DecisionTreeRegressor\n",
        "from sklearn.preprocessing import OneHotEncoder\n",
        "from sklearn.compose import make_column_transformer\n",
        "from sklearn.pipeline import make_pipeline\n",
        "from sklearn.metrics import r2_score\n",
        "from sklearn.linear_model import LinearRegression\n",
        "from sklearn.preprocessing import LabelEncoder\n",
        "from sklearn.model_selection import GridSearchCV"
      ]
    },
    {
      "cell_type": "markdown",
      "metadata": {},
      "source": [
        "**READING DATA USING PANDAS**"
      ]
    },
    {
      "cell_type": "code",
      "execution_count": 4,
      "metadata": {
        "id": "x1xyyswabzDo"
      },
      "outputs": [
        {
          "data": {
            "text/html": [
              "<div>\n",
              "<style scoped>\n",
              "    .dataframe tbody tr th:only-of-type {\n",
              "        vertical-align: middle;\n",
              "    }\n",
              "\n",
              "    .dataframe tbody tr th {\n",
              "        vertical-align: top;\n",
              "    }\n",
              "\n",
              "    .dataframe thead th {\n",
              "        text-align: right;\n",
              "    }\n",
              "</style>\n",
              "<table border=\"1\" class=\"dataframe\">\n",
              "  <thead>\n",
              "    <tr style=\"text-align: right;\">\n",
              "      <th></th>\n",
              "      <th>product</th>\n",
              "      <th>year</th>\n",
              "      <th>expiri duretion in years</th>\n",
              "      <th>month</th>\n",
              "      <th>no. of new products bought</th>\n",
              "      <th>no of products left for selling</th>\n",
              "      <th>no. of products sold</th>\n",
              "      <th>prodects left</th>\n",
              "      <th>no of products to be bought</th>\n",
              "      <th>demand %</th>\n",
              "    </tr>\n",
              "  </thead>\n",
              "  <tbody>\n",
              "    <tr>\n",
              "      <th>0</th>\n",
              "      <td>colgate</td>\n",
              "      <td>2019</td>\n",
              "      <td>2.0</td>\n",
              "      <td>1</td>\n",
              "      <td>60</td>\n",
              "      <td>60</td>\n",
              "      <td>46</td>\n",
              "      <td>0</td>\n",
              "      <td>46.0</td>\n",
              "      <td>76.666667</td>\n",
              "    </tr>\n",
              "    <tr>\n",
              "      <th>1</th>\n",
              "      <td>colgate</td>\n",
              "      <td>2019</td>\n",
              "      <td>2.0</td>\n",
              "      <td>2</td>\n",
              "      <td>32</td>\n",
              "      <td>46</td>\n",
              "      <td>38</td>\n",
              "      <td>14</td>\n",
              "      <td>24.0</td>\n",
              "      <td>118.750000</td>\n",
              "    </tr>\n",
              "    <tr>\n",
              "      <th>2</th>\n",
              "      <td>colgate</td>\n",
              "      <td>2019</td>\n",
              "      <td>2.0</td>\n",
              "      <td>3</td>\n",
              "      <td>40</td>\n",
              "      <td>62</td>\n",
              "      <td>47</td>\n",
              "      <td>22</td>\n",
              "      <td>25.0</td>\n",
              "      <td>117.500000</td>\n",
              "    </tr>\n",
              "    <tr>\n",
              "      <th>3</th>\n",
              "      <td>colgate</td>\n",
              "      <td>2019</td>\n",
              "      <td>2.0</td>\n",
              "      <td>4</td>\n",
              "      <td>36</td>\n",
              "      <td>51</td>\n",
              "      <td>40</td>\n",
              "      <td>15</td>\n",
              "      <td>25.0</td>\n",
              "      <td>111.111111</td>\n",
              "    </tr>\n",
              "    <tr>\n",
              "      <th>4</th>\n",
              "      <td>colgate</td>\n",
              "      <td>2019</td>\n",
              "      <td>2.0</td>\n",
              "      <td>5</td>\n",
              "      <td>56</td>\n",
              "      <td>67</td>\n",
              "      <td>58</td>\n",
              "      <td>11</td>\n",
              "      <td>47.0</td>\n",
              "      <td>103.571429</td>\n",
              "    </tr>\n",
              "    <tr>\n",
              "      <th>5</th>\n",
              "      <td>colgate</td>\n",
              "      <td>2019</td>\n",
              "      <td>2.0</td>\n",
              "      <td>6</td>\n",
              "      <td>41</td>\n",
              "      <td>50</td>\n",
              "      <td>39</td>\n",
              "      <td>9</td>\n",
              "      <td>30.0</td>\n",
              "      <td>95.121951</td>\n",
              "    </tr>\n",
              "    <tr>\n",
              "      <th>6</th>\n",
              "      <td>colgate</td>\n",
              "      <td>2019</td>\n",
              "      <td>2.0</td>\n",
              "      <td>7</td>\n",
              "      <td>58</td>\n",
              "      <td>69</td>\n",
              "      <td>51</td>\n",
              "      <td>11</td>\n",
              "      <td>40.0</td>\n",
              "      <td>87.931034</td>\n",
              "    </tr>\n",
              "    <tr>\n",
              "      <th>7</th>\n",
              "      <td>colgate</td>\n",
              "      <td>2019</td>\n",
              "      <td>2.0</td>\n",
              "      <td>8</td>\n",
              "      <td>31</td>\n",
              "      <td>47</td>\n",
              "      <td>47</td>\n",
              "      <td>16</td>\n",
              "      <td>31.0</td>\n",
              "      <td>151.612903</td>\n",
              "    </tr>\n",
              "    <tr>\n",
              "      <th>8</th>\n",
              "      <td>colgate</td>\n",
              "      <td>2019</td>\n",
              "      <td>2.0</td>\n",
              "      <td>9</td>\n",
              "      <td>100</td>\n",
              "      <td>100</td>\n",
              "      <td>56</td>\n",
              "      <td>0</td>\n",
              "      <td>56.0</td>\n",
              "      <td>56.000000</td>\n",
              "    </tr>\n",
              "    <tr>\n",
              "      <th>9</th>\n",
              "      <td>colgate</td>\n",
              "      <td>2019</td>\n",
              "      <td>2.0</td>\n",
              "      <td>10</td>\n",
              "      <td>0</td>\n",
              "      <td>44</td>\n",
              "      <td>44</td>\n",
              "      <td>44</td>\n",
              "      <td>44.0</td>\n",
              "      <td>44.000000</td>\n",
              "    </tr>\n",
              "    <tr>\n",
              "      <th>10</th>\n",
              "      <td>colgate</td>\n",
              "      <td>2019</td>\n",
              "      <td>2.0</td>\n",
              "      <td>11</td>\n",
              "      <td>38</td>\n",
              "      <td>38</td>\n",
              "      <td>16</td>\n",
              "      <td>0</td>\n",
              "      <td>16.0</td>\n",
              "      <td>42.105263</td>\n",
              "    </tr>\n",
              "    <tr>\n",
              "      <th>11</th>\n",
              "      <td>colgate</td>\n",
              "      <td>2019</td>\n",
              "      <td>2.0</td>\n",
              "      <td>12</td>\n",
              "      <td>30</td>\n",
              "      <td>52</td>\n",
              "      <td>48</td>\n",
              "      <td>22</td>\n",
              "      <td>26.0</td>\n",
              "      <td>160.000000</td>\n",
              "    </tr>\n",
              "    <tr>\n",
              "      <th>12</th>\n",
              "      <td>colgate</td>\n",
              "      <td>2020</td>\n",
              "      <td>2.0</td>\n",
              "      <td>1</td>\n",
              "      <td>72</td>\n",
              "      <td>76</td>\n",
              "      <td>56</td>\n",
              "      <td>4</td>\n",
              "      <td>52.0</td>\n",
              "      <td>77.777778</td>\n",
              "    </tr>\n",
              "    <tr>\n",
              "      <th>13</th>\n",
              "      <td>colgate</td>\n",
              "      <td>2020</td>\n",
              "      <td>2.0</td>\n",
              "      <td>2</td>\n",
              "      <td>78</td>\n",
              "      <td>98</td>\n",
              "      <td>86</td>\n",
              "      <td>20</td>\n",
              "      <td>66.0</td>\n",
              "      <td>110.256410</td>\n",
              "    </tr>\n",
              "    <tr>\n",
              "      <th>14</th>\n",
              "      <td>colgate</td>\n",
              "      <td>2020</td>\n",
              "      <td>2.0</td>\n",
              "      <td>3</td>\n",
              "      <td>60</td>\n",
              "      <td>72</td>\n",
              "      <td>59</td>\n",
              "      <td>12</td>\n",
              "      <td>47.0</td>\n",
              "      <td>98.333333</td>\n",
              "    </tr>\n",
              "  </tbody>\n",
              "</table>\n",
              "</div>"
            ],
            "text/plain": [
              "    product  year  expiri duretion in years  month  \\\n",
              "0   colgate  2019                       2.0      1   \n",
              "1   colgate  2019                       2.0      2   \n",
              "2   colgate  2019                       2.0      3   \n",
              "3   colgate  2019                       2.0      4   \n",
              "4   colgate  2019                       2.0      5   \n",
              "5   colgate  2019                       2.0      6   \n",
              "6   colgate  2019                       2.0      7   \n",
              "7   colgate  2019                       2.0      8   \n",
              "8   colgate  2019                       2.0      9   \n",
              "9   colgate  2019                       2.0     10   \n",
              "10  colgate  2019                       2.0     11   \n",
              "11  colgate  2019                       2.0     12   \n",
              "12  colgate  2020                       2.0      1   \n",
              "13  colgate  2020                       2.0      2   \n",
              "14  colgate  2020                       2.0      3   \n",
              "\n",
              "    no. of new products bought    no of products left for selling  \\\n",
              "0                             60                               60   \n",
              "1                             32                               46   \n",
              "2                             40                               62   \n",
              "3                             36                               51   \n",
              "4                             56                               67   \n",
              "5                             41                               50   \n",
              "6                             58                               69   \n",
              "7                             31                               47   \n",
              "8                            100                              100   \n",
              "9                              0                               44   \n",
              "10                            38                               38   \n",
              "11                            30                               52   \n",
              "12                            72                               76   \n",
              "13                            78                               98   \n",
              "14                            60                               72   \n",
              "\n",
              "    no. of products sold  prodects left  no of products to be bought  \\\n",
              "0                     46              0                         46.0   \n",
              "1                     38             14                         24.0   \n",
              "2                     47             22                         25.0   \n",
              "3                     40             15                         25.0   \n",
              "4                     58             11                         47.0   \n",
              "5                     39              9                         30.0   \n",
              "6                     51             11                         40.0   \n",
              "7                     47             16                         31.0   \n",
              "8                     56              0                         56.0   \n",
              "9                     44             44                         44.0   \n",
              "10                    16              0                         16.0   \n",
              "11                    48             22                         26.0   \n",
              "12                    56              4                         52.0   \n",
              "13                    86             20                         66.0   \n",
              "14                    59             12                         47.0   \n",
              "\n",
              "      demand %  \n",
              "0    76.666667  \n",
              "1   118.750000  \n",
              "2   117.500000  \n",
              "3   111.111111  \n",
              "4   103.571429  \n",
              "5    95.121951  \n",
              "6    87.931034  \n",
              "7   151.612903  \n",
              "8    56.000000  \n",
              "9    44.000000  \n",
              "10   42.105263  \n",
              "11  160.000000  \n",
              "12   77.777778  \n",
              "13  110.256410  \n",
              "14   98.333333  "
            ]
          },
          "execution_count": 4,
          "metadata": {},
          "output_type": "execute_result"
        }
      ],
      "source": [
        "data = pd.read_csv('prod_.csv')\n",
        "data.head(15)"
      ]
    },
    {
      "cell_type": "code",
      "execution_count": 5,
      "metadata": {
        "colab": {
          "base_uri": "https://localhost:8080/"
        },
        "id": "LoiUYBtyZxfw",
        "outputId": "31e0163f-2d7b-462d-834b-65e3fc6ff445"
      },
      "outputs": [
        {
          "data": {
            "text/plain": [
              "array(['colgate', 'gemini  tea powder', 'suger', 'freedom sunflower oil',\n",
              "       'life boy soap', 'santoor'], dtype=object)"
            ]
          },
          "execution_count": 5,
          "metadata": {},
          "output_type": "execute_result"
        }
      ],
      "source": [
        "data['product'].unique()"
      ]
    },
    {
      "cell_type": "markdown",
      "metadata": {},
      "source": [
        "**ENCODING DATA**"
      ]
    },
    {
      "cell_type": "code",
      "execution_count": 6,
      "metadata": {
        "id": "uin087ONcNHW"
      },
      "outputs": [],
      "source": [
        "ohe = OneHotEncoder()\n",
        "ohe.fit(data[['product']])\n",
        "ct=make_column_transformer((OneHotEncoder(),[0]),remainder='passthrough')"
      ]
    },
    {
      "cell_type": "markdown",
      "metadata": {},
      "source": [
        "**DENPENDENT AND INDIPENDENT VARIABLES**"
      ]
    },
    {
      "cell_type": "code",
      "execution_count": 7,
      "metadata": {
        "id": "xo_6ixhNWbpK"
      },
      "outputs": [],
      "source": [
        "x = data.iloc[:,[0,1,3]].values\n",
        "y = data.iloc[:, [6]].values"
      ]
    },
    {
      "cell_type": "code",
      "execution_count": 8,
      "metadata": {},
      "outputs": [
        {
          "data": {
            "text/plain": [
              "array([2.])"
            ]
          },
          "execution_count": 8,
          "metadata": {},
          "output_type": "execute_result"
        }
      ],
      "source": [
        "o=data.iloc[36:68,[2]]\n",
        "o['expiri duretion in years'].unique()"
      ]
    },
    {
      "cell_type": "code",
      "execution_count": 9,
      "metadata": {},
      "outputs": [],
      "source": [
        "p=0\n",
        "q=36\n",
        "r=[]\n",
        "for i in range(0,6):\n",
        "    s=data.iloc[p:q,[2]]\n",
        "    r.append(float(s['expiri duretion in years'].unique()))\n",
        "    p=q\n",
        "    q=q+41"
      ]
    },
    {
      "cell_type": "code",
      "execution_count": 10,
      "metadata": {},
      "outputs": [
        {
          "data": {
            "text/plain": [
              "[2.0, 2.0, 2.0, 0.6, 1.0, 1.0]"
            ]
          },
          "execution_count": 10,
          "metadata": {},
          "output_type": "execute_result"
        }
      ],
      "source": [
        "r"
      ]
    },
    {
      "cell_type": "code",
      "execution_count": 11,
      "metadata": {
        "id": "3-ov31wXIJup"
      },
      "outputs": [],
      "source": [
        "from sklearn.preprocessing import StandardScaler\n",
        "sc = StandardScaler()"
      ]
    },
    {
      "cell_type": "code",
      "execution_count": 12,
      "metadata": {},
      "outputs": [
        {
          "name": "stdout",
          "output_type": "stream",
          "text": [
            "[['colgate' 2019 1]\n",
            " ['colgate' 2019 2]\n",
            " ['colgate' 2019 3]\n",
            " ['colgate' 2019 4]\n",
            " ['colgate' 2019 5]\n",
            " ['colgate' 2019 6]\n",
            " ['colgate' 2019 7]\n",
            " ['colgate' 2019 8]\n",
            " ['colgate' 2019 9]\n",
            " ['colgate' 2019 10]\n",
            " ['colgate' 2019 11]\n",
            " ['colgate' 2019 12]\n",
            " ['colgate' 2020 1]\n",
            " ['colgate' 2020 2]\n",
            " ['colgate' 2020 3]\n",
            " ['colgate' 2020 4]\n",
            " ['colgate' 2020 5]\n",
            " ['colgate' 2020 6]\n",
            " ['colgate' 2020 7]\n",
            " ['colgate' 2020 8]\n",
            " ['colgate' 2020 9]\n",
            " ['colgate' 2020 10]\n",
            " ['colgate' 2020 11]\n",
            " ['colgate' 2020 12]\n",
            " ['colgate' 2021 1]\n",
            " ['colgate' 2021 2]\n",
            " ['colgate' 2021 3]\n",
            " ['colgate' 2021 4]\n",
            " ['colgate' 2021 5]\n",
            " ['colgate' 2021 6]\n",
            " ['colgate' 2021 7]\n",
            " ['colgate' 2021 8]\n",
            " ['colgate' 2021 9]\n",
            " ['colgate' 2021 10]\n",
            " ['colgate' 2021 11]\n",
            " ['colgate' 2021 12]\n",
            " ['gemini  tea powder' 2019 1]\n",
            " ['gemini  tea powder' 2019 2]\n",
            " ['gemini  tea powder' 2019 3]\n",
            " ['gemini  tea powder' 2019 4]\n",
            " ['gemini  tea powder' 2019 5]\n",
            " ['gemini  tea powder' 2019 6]\n",
            " ['gemini  tea powder' 2019 7]\n",
            " ['gemini  tea powder' 2019 8]\n",
            " ['gemini  tea powder' 2019 9]\n",
            " ['gemini  tea powder' 2019 10]\n",
            " ['gemini  tea powder' 2019 11]\n",
            " ['gemini  tea powder' 2019 12]\n",
            " ['gemini  tea powder' 2020 1]\n",
            " ['gemini  tea powder' 2020 2]\n",
            " ['gemini  tea powder' 2020 3]\n",
            " ['gemini  tea powder' 2020 4]\n",
            " ['gemini  tea powder' 2020 5]\n",
            " ['gemini  tea powder' 2020 6]\n",
            " ['gemini  tea powder' 2020 7]\n",
            " ['gemini  tea powder' 2020 8]\n",
            " ['gemini  tea powder' 2020 9]\n",
            " ['gemini  tea powder' 2020 10]\n",
            " ['gemini  tea powder' 2020 11]\n",
            " ['gemini  tea powder' 2020 12]\n",
            " ['gemini  tea powder' 2021 1]\n",
            " ['gemini  tea powder' 2021 2]\n",
            " ['gemini  tea powder' 2021 3]\n",
            " ['gemini  tea powder' 2021 4]\n",
            " ['gemini  tea powder' 2021 5]\n",
            " ['gemini  tea powder' 2021 6]\n",
            " ['gemini  tea powder' 2021 7]\n",
            " ['gemini  tea powder' 2021 8]\n",
            " ['gemini  tea powder' 2021 9]\n",
            " ['gemini  tea powder' 2021 10]\n",
            " ['gemini  tea powder' 2021 11]\n",
            " ['gemini  tea powder' 2021 12]\n",
            " ['gemini  tea powder' 2022 1]\n",
            " ['gemini  tea powder' 2022 2]\n",
            " ['gemini  tea powder' 2022 3]\n",
            " ['gemini  tea powder' 2022 4]\n",
            " ['gemini  tea powder' 2022 5]\n",
            " ['suger' 2019 1]\n",
            " ['suger' 2019 2]\n",
            " ['suger' 2019 3]\n",
            " ['suger' 2019 4]\n",
            " ['suger' 2019 5]\n",
            " ['suger' 2019 6]\n",
            " ['suger' 2019 7]\n",
            " ['suger' 2019 8]\n",
            " ['suger' 2019 9]\n",
            " ['suger' 2019 10]\n",
            " ['suger' 2019 11]\n",
            " ['suger' 2019 12]\n",
            " ['suger' 2020 1]\n",
            " ['suger' 2020 2]\n",
            " ['suger' 2020 3]\n",
            " ['suger' 2020 4]\n",
            " ['suger' 2020 5]\n",
            " ['suger' 2020 6]\n",
            " ['suger' 2020 7]\n",
            " ['suger' 2020 8]\n",
            " ['suger' 2020 9]\n",
            " ['suger' 2020 10]\n",
            " ['suger' 2020 11]\n",
            " ['suger' 2020 12]\n",
            " ['suger' 2021 1]\n",
            " ['suger' 2021 2]\n",
            " ['suger' 2021 3]\n",
            " ['suger' 2021 4]\n",
            " ['suger' 2021 5]\n",
            " ['suger' 2021 6]\n",
            " ['suger' 2021 7]\n",
            " ['suger' 2021 8]\n",
            " ['suger' 2021 9]\n",
            " ['suger' 2021 10]\n",
            " ['suger' 2021 11]\n",
            " ['suger' 2021 12]\n",
            " ['suger' 2022 1]\n",
            " ['suger' 2022 2]\n",
            " ['suger' 2022 3]\n",
            " ['suger' 2022 4]\n",
            " ['suger' 2022 5]\n",
            " ['freedom sunflower oil' 2019 1]\n",
            " ['freedom sunflower oil' 2019 2]\n",
            " ['freedom sunflower oil' 2019 3]\n",
            " ['freedom sunflower oil' 2019 4]\n",
            " ['freedom sunflower oil' 2019 5]\n",
            " ['freedom sunflower oil' 2019 6]\n",
            " ['freedom sunflower oil' 2019 7]\n",
            " ['freedom sunflower oil' 2019 8]\n",
            " ['freedom sunflower oil' 2019 9]\n",
            " ['freedom sunflower oil' 2019 10]\n",
            " ['freedom sunflower oil' 2019 11]\n",
            " ['freedom sunflower oil' 2019 12]\n",
            " ['freedom sunflower oil' 2020 1]\n",
            " ['freedom sunflower oil' 2020 2]\n",
            " ['freedom sunflower oil' 2020 3]\n",
            " ['freedom sunflower oil' 2020 4]\n",
            " ['freedom sunflower oil' 2020 5]\n",
            " ['freedom sunflower oil' 2020 6]\n",
            " ['freedom sunflower oil' 2020 7]\n",
            " ['freedom sunflower oil' 2020 8]\n",
            " ['freedom sunflower oil' 2020 9]\n",
            " ['freedom sunflower oil' 2020 10]\n",
            " ['freedom sunflower oil' 2020 11]\n",
            " ['freedom sunflower oil' 2020 12]\n",
            " ['freedom sunflower oil' 2021 1]\n",
            " ['freedom sunflower oil' 2021 2]\n",
            " ['freedom sunflower oil' 2021 3]\n",
            " ['freedom sunflower oil' 2021 4]\n",
            " ['freedom sunflower oil' 2021 5]\n",
            " ['freedom sunflower oil' 2021 6]\n",
            " ['freedom sunflower oil' 2021 7]\n",
            " ['freedom sunflower oil' 2021 8]\n",
            " ['freedom sunflower oil' 2021 9]\n",
            " ['freedom sunflower oil' 2021 10]\n",
            " ['freedom sunflower oil' 2021 11]\n",
            " ['freedom sunflower oil' 2021 12]\n",
            " ['freedom sunflower oil' 2022 1]\n",
            " ['freedom sunflower oil' 2022 2]\n",
            " ['freedom sunflower oil' 2022 3]\n",
            " ['freedom sunflower oil' 2022 4]\n",
            " ['freedom sunflower oil' 2022 5]\n",
            " ['life boy soap' 2019 1]\n",
            " ['life boy soap' 2019 2]\n",
            " ['life boy soap' 2019 3]\n",
            " ['life boy soap' 2019 4]\n",
            " ['life boy soap' 2019 5]\n",
            " ['life boy soap' 2019 6]\n",
            " ['life boy soap' 2019 7]\n",
            " ['life boy soap' 2019 8]\n",
            " ['life boy soap' 2019 9]\n",
            " ['life boy soap' 2019 10]\n",
            " ['life boy soap' 2019 11]\n",
            " ['life boy soap' 2019 12]\n",
            " ['life boy soap' 2020 1]\n",
            " ['life boy soap' 2020 2]\n",
            " ['life boy soap' 2020 3]\n",
            " ['life boy soap' 2020 4]\n",
            " ['life boy soap' 2020 5]\n",
            " ['life boy soap' 2020 6]\n",
            " ['life boy soap' 2020 7]\n",
            " ['life boy soap' 2020 8]\n",
            " ['life boy soap' 2020 9]\n",
            " ['life boy soap' 2020 10]\n",
            " ['life boy soap' 2020 11]\n",
            " ['life boy soap' 2020 12]\n",
            " ['life boy soap' 2021 1]\n",
            " ['life boy soap' 2021 2]\n",
            " ['life boy soap' 2021 3]\n",
            " ['life boy soap' 2021 4]\n",
            " ['life boy soap' 2021 5]\n",
            " ['life boy soap' 2021 6]\n",
            " ['life boy soap' 2021 7]\n",
            " ['life boy soap' 2021 8]\n",
            " ['life boy soap' 2021 9]\n",
            " ['life boy soap' 2021 10]\n",
            " ['life boy soap' 2021 11]\n",
            " ['life boy soap' 2021 12]\n",
            " ['life boy soap' 2022 1]\n",
            " ['life boy soap' 2022 2]\n",
            " ['life boy soap' 2022 3]\n",
            " ['life boy soap' 2022 4]\n",
            " ['life boy soap' 2022 5]\n",
            " ['santoor' 2019 1]\n",
            " ['santoor' 2019 2]\n",
            " ['santoor' 2019 3]\n",
            " ['santoor' 2019 4]\n",
            " ['santoor' 2019 5]\n",
            " ['santoor' 2019 6]\n",
            " ['santoor' 2019 7]\n",
            " ['santoor' 2019 8]\n",
            " ['santoor' 2019 9]\n",
            " ['santoor' 2019 10]\n",
            " ['santoor' 2019 11]\n",
            " ['santoor' 2019 12]\n",
            " ['santoor' 2020 1]\n",
            " ['santoor' 2020 2]\n",
            " ['santoor' 2020 3]\n",
            " ['santoor' 2020 4]\n",
            " ['santoor' 2020 5]\n",
            " ['santoor' 2020 6]\n",
            " ['santoor' 2020 7]\n",
            " ['santoor' 2020 8]\n",
            " ['santoor' 2020 9]\n",
            " ['santoor' 2020 10]\n",
            " ['santoor' 2020 11]\n",
            " ['santoor' 2020 12]]\n"
          ]
        }
      ],
      "source": [
        "print(x)"
      ]
    },
    {
      "cell_type": "markdown",
      "metadata": {},
      "source": [
        "**DIVIDING THE DATA INTO TRAINING AND TESTING SET**"
      ]
    },
    {
      "cell_type": "code",
      "execution_count": 13,
      "metadata": {
        "id": "CXvJXOPhc34E"
      },
      "outputs": [],
      "source": [
        "from sklearn.model_selection import train_test_split\n",
        "x_train, x_test, y_train, y_test = train_test_split(x, y, test_size = 0.3, random_state = 0)"
      ]
    },
    {
      "cell_type": "code",
      "execution_count": 14,
      "metadata": {
        "id": "1GChiDgvbnel"
      },
      "outputs": [
        {
          "data": {
            "text/plain": [
              "array([['life boy soap', 2019, 8],\n",
              "       ['gemini  tea powder', 2019, 5],\n",
              "       ['colgate', 2020, 2],\n",
              "       ['freedom sunflower oil', 2019, 5],\n",
              "       ['suger', 2020, 1],\n",
              "       ['colgate', 2021, 1],\n",
              "       ['colgate', 2021, 7],\n",
              "       ['gemini  tea powder', 2021, 1],\n",
              "       ['gemini  tea powder', 2020, 9],\n",
              "       ['life boy soap', 2019, 3],\n",
              "       ['suger', 2021, 1],\n",
              "       ['colgate', 2020, 8],\n",
              "       ['life boy soap', 2019, 10],\n",
              "       ['life boy soap', 2020, 6],\n",
              "       ['gemini  tea powder', 2020, 7],\n",
              "       ['life boy soap', 2020, 10],\n",
              "       ['suger', 2019, 4],\n",
              "       ['gemini  tea powder', 2020, 4],\n",
              "       ['suger', 2021, 8],\n",
              "       ['freedom sunflower oil', 2022, 1],\n",
              "       ['freedom sunflower oil', 2019, 1],\n",
              "       ['suger', 2019, 10],\n",
              "       ['life boy soap', 2020, 8],\n",
              "       ['freedom sunflower oil', 2019, 9],\n",
              "       ['life boy soap', 2019, 1],\n",
              "       ['suger', 2021, 11],\n",
              "       ['gemini  tea powder', 2019, 6],\n",
              "       ['colgate', 2020, 3],\n",
              "       ['colgate', 2021, 4],\n",
              "       ['freedom sunflower oil', 2020, 12],\n",
              "       ['santoor', 2019, 3],\n",
              "       ['colgate', 2020, 9],\n",
              "       ['freedom sunflower oil', 2021, 8],\n",
              "       ['gemini  tea powder', 2019, 11],\n",
              "       ['freedom sunflower oil', 2021, 12],\n",
              "       ['santoor', 2020, 8],\n",
              "       ['freedom sunflower oil', 2020, 1],\n",
              "       ['freedom sunflower oil', 2022, 4],\n",
              "       ['gemini  tea powder', 2021, 3],\n",
              "       ['freedom sunflower oil', 2021, 5],\n",
              "       ['colgate', 2019, 3],\n",
              "       ['gemini  tea powder', 2020, 12],\n",
              "       ['freedom sunflower oil', 2020, 8],\n",
              "       ['santoor', 2019, 9],\n",
              "       ['gemini  tea powder', 2019, 8],\n",
              "       ['colgate', 2019, 11],\n",
              "       ['freedom sunflower oil', 2019, 12],\n",
              "       ['gemini  tea powder', 2022, 2],\n",
              "       ['santoor', 2020, 3],\n",
              "       ['santoor', 2020, 6],\n",
              "       ['suger', 2021, 12],\n",
              "       ['life boy soap', 2022, 5],\n",
              "       ['life boy soap', 2021, 7],\n",
              "       ['suger', 2020, 10],\n",
              "       ['colgate', 2019, 4],\n",
              "       ['suger', 2020, 5],\n",
              "       ['freedom sunflower oil', 2020, 5],\n",
              "       ['santoor', 2019, 5],\n",
              "       ['santoor', 2020, 2],\n",
              "       ['gemini  tea powder', 2020, 3],\n",
              "       ['suger', 2022, 1],\n",
              "       ['colgate', 2019, 1],\n",
              "       ['suger', 2020, 6],\n",
              "       ['suger', 2020, 7],\n",
              "       ['gemini  tea powder', 2021, 10],\n",
              "       ['gemini  tea powder', 2020, 2],\n",
              "       ['gemini  tea powder', 2020, 1],\n",
              "       ['suger', 2019, 9],\n",
              "       ['santoor', 2020, 10],\n",
              "       ['colgate', 2020, 12],\n",
              "       ['suger', 2019, 2],\n",
              "       ['suger', 2020, 12],\n",
              "       ['freedom sunflower oil', 2020, 2],\n",
              "       ['life boy soap', 2020, 11],\n",
              "       ['santoor', 2020, 11],\n",
              "       ['colgate', 2019, 7],\n",
              "       ['gemini  tea powder', 2021, 9],\n",
              "       ['suger', 2019, 8],\n",
              "       ['freedom sunflower oil', 2019, 4],\n",
              "       ['santoor', 2019, 10],\n",
              "       ['life boy soap', 2019, 12],\n",
              "       ['life boy soap', 2021, 8],\n",
              "       ['life boy soap', 2021, 3],\n",
              "       ['santoor', 2020, 12],\n",
              "       ['suger', 2020, 3],\n",
              "       ['life boy soap', 2021, 9],\n",
              "       ['colgate', 2019, 12],\n",
              "       ['freedom sunflower oil', 2019, 2],\n",
              "       ['suger', 2021, 2],\n",
              "       ['colgate', 2021, 12],\n",
              "       ['gemini  tea powder', 2020, 10],\n",
              "       ['gemini  tea powder', 2021, 6],\n",
              "       ['colgate', 2019, 2],\n",
              "       ['freedom sunflower oil', 2019, 3],\n",
              "       ['life boy soap', 2020, 9],\n",
              "       ['gemini  tea powder', 2019, 7],\n",
              "       ['suger', 2021, 5],\n",
              "       ['freedom sunflower oil', 2020, 3],\n",
              "       ['life boy soap', 2021, 12],\n",
              "       ['colgate', 2020, 6],\n",
              "       ['gemini  tea powder', 2019, 3],\n",
              "       ['freedom sunflower oil', 2020, 4],\n",
              "       ['gemini  tea powder', 2020, 6],\n",
              "       ['life boy soap', 2019, 6],\n",
              "       ['life boy soap', 2020, 3],\n",
              "       ['freedom sunflower oil', 2019, 11],\n",
              "       ['colgate', 2021, 11],\n",
              "       ['colgate', 2021, 5],\n",
              "       ['suger', 2022, 2],\n",
              "       ['life boy soap', 2019, 5],\n",
              "       ['freedom sunflower oil', 2021, 10],\n",
              "       ['colgate', 2021, 8],\n",
              "       ['life boy soap', 2021, 1],\n",
              "       ['freedom sunflower oil', 2019, 10],\n",
              "       ['life boy soap', 2022, 3],\n",
              "       ['colgate', 2021, 9],\n",
              "       ['life boy soap', 2019, 9],\n",
              "       ['freedom sunflower oil', 2021, 1],\n",
              "       ['life boy soap', 2021, 5],\n",
              "       ['freedom sunflower oil', 2021, 6],\n",
              "       ['colgate', 2021, 6],\n",
              "       ['life boy soap', 2020, 7],\n",
              "       ['suger', 2020, 11],\n",
              "       ['suger', 2019, 6],\n",
              "       ['santoor', 2020, 9],\n",
              "       ['life boy soap', 2020, 5],\n",
              "       ['suger', 2019, 3],\n",
              "       ['suger', 2022, 3],\n",
              "       ['freedom sunflower oil', 2021, 7],\n",
              "       ['santoor', 2020, 5],\n",
              "       ['gemini  tea powder', 2022, 1],\n",
              "       ['suger', 2019, 1],\n",
              "       ['colgate', 2021, 2],\n",
              "       ['life boy soap', 2019, 7],\n",
              "       ['suger', 2019, 5],\n",
              "       ['santoor', 2019, 11],\n",
              "       ['life boy soap', 2020, 4],\n",
              "       ['santoor', 2020, 1],\n",
              "       ['gemini  tea powder', 2019, 4],\n",
              "       ['life boy soap', 2021, 11],\n",
              "       ['gemini  tea powder', 2020, 11],\n",
              "       ['freedom sunflower oil', 2020, 11],\n",
              "       ['suger', 2019, 12],\n",
              "       ['gemini  tea powder', 2021, 11],\n",
              "       ['suger', 2019, 11],\n",
              "       ['gemini  tea powder', 2019, 1],\n",
              "       ['colgate', 2020, 10],\n",
              "       ['santoor', 2019, 12],\n",
              "       ['colgate', 2019, 10],\n",
              "       ['suger', 2021, 3],\n",
              "       ['life boy soap', 2022, 1],\n",
              "       ['gemini  tea powder', 2021, 8],\n",
              "       ['life boy soap', 2021, 10],\n",
              "       ['suger', 2022, 5],\n",
              "       ['gemini  tea powder', 2019, 12],\n",
              "       ['life boy soap', 2020, 2]], dtype=object)"
            ]
          },
          "execution_count": 14,
          "metadata": {},
          "output_type": "execute_result"
        }
      ],
      "source": [
        "x_train"
      ]
    },
    {
      "cell_type": "code",
      "execution_count": 15,
      "metadata": {
        "id": "36Kgz_vDs7aw"
      },
      "outputs": [],
      "source": [
        "import warnings\n",
        "warnings.simplefilter(action='ignore', category=FutureWarning)\n",
        "warnings.simplefilter(action='ignore', category=UserWarning)"
      ]
    },
    {
      "cell_type": "markdown",
      "metadata": {},
      "source": [
        "# **REGRESSION MODELS**"
      ]
    },
    {
      "cell_type": "markdown",
      "metadata": {},
      "source": [
        "# LinearRegression"
      ]
    },
    {
      "cell_type": "code",
      "execution_count": 16,
      "metadata": {
        "id": "cdamkf68diQh"
      },
      "outputs": [],
      "source": [
        "lr = LinearRegression()"
      ]
    },
    {
      "cell_type": "markdown",
      "metadata": {},
      "source": [
        "MAKING PIPELINE"
      ]
    },
    {
      "cell_type": "code",
      "execution_count": 17,
      "metadata": {
        "colab": {
          "base_uri": "https://localhost:8080/"
        },
        "id": "_DRwxBYRmMgx",
        "outputId": "d6887d85-55ce-4cdb-a5a7-885f7052ee24"
      },
      "outputs": [
        {
          "data": {
            "text/plain": [
              "Pipeline(steps=[('columntransformer',\n",
              "                 ColumnTransformer(remainder='passthrough',\n",
              "                                   transformers=[('onehotencoder',\n",
              "                                                  OneHotEncoder(), [0])])),\n",
              "                ('linearregression', LinearRegression())])"
            ]
          },
          "execution_count": 17,
          "metadata": {},
          "output_type": "execute_result"
        }
      ],
      "source": [
        "from pandas.core.algorithms import mode\n",
        "from sklearn import pipeline\n",
        "pipe=make_pipeline(ct,lr)\n",
        "pipe.fit(x_train,y_train)"
      ]
    },
    {
      "cell_type": "markdown",
      "metadata": {},
      "source": [
        "SCORE"
      ]
    },
    {
      "cell_type": "code",
      "execution_count": 18,
      "metadata": {
        "colab": {
          "base_uri": "https://localhost:8080/"
        },
        "id": "lpq0AJ5FpGEx",
        "outputId": "5e06eaaf-e627-4f0f-ad15-e33f7ec93de2"
      },
      "outputs": [
        {
          "data": {
            "text/plain": [
              "0.9052419107148001"
            ]
          },
          "execution_count": 18,
          "metadata": {},
          "output_type": "execute_result"
        }
      ],
      "source": [
        "y_pred= pipe.predict(x_test)\n",
        "score = r2_score(y_pred,y_test)\n",
        "score"
      ]
    },
    {
      "cell_type": "code",
      "execution_count": null,
      "metadata": {
        "colab": {
          "base_uri": "https://localhost:8080/"
        },
        "id": "KoG4V6fUpoQf",
        "outputId": "0dc9844b-c88a-455d-8807-ca2b9d197025"
      },
      "outputs": [],
      "source": [
        "scores=[]\n",
        "for i in range(1000):\n",
        "    x_train,x_test,y_train,y_test=train_test_split(x,y,test_size=0.1,random_state=i)\n",
        "    dt = LinearRegression()\n",
        "    piped=make_pipeline(ct,dt)\n",
        "    piped.fit(x_train,y_train)\n",
        "    y_pred=piped.predict(x_test)\n",
        "    scores.append(r2_score(y_test,y_pred))\n",
        "scores[np.argmax(scores)]"
      ]
    },
    {
      "cell_type": "code",
      "execution_count": 19,
      "metadata": {
        "colab": {
          "base_uri": "https://localhost:8080/"
        },
        "id": "xnOk70O6qHSJ",
        "outputId": "5ccdd481-35b0-4c22-fc15-76378986e331"
      },
      "outputs": [
        {
          "data": {
            "text/plain": [
              "array([[153.92103069]])"
            ]
          },
          "execution_count": 19,
          "metadata": {},
          "output_type": "execute_result"
        }
      ],
      "source": [
        "pipe.predict([['santoor',2021,3]])"
      ]
    },
    {
      "cell_type": "code",
      "execution_count": 20,
      "metadata": {
        "id": "FeUKn0zV04u6"
      },
      "outputs": [],
      "source": [
        "c=[]\n",
        "for i in range(0,12):\n",
        "  c.append(float(pipe.predict([['colgate',2023,i]])))"
      ]
    },
    {
      "cell_type": "code",
      "execution_count": 21,
      "metadata": {
        "colab": {
          "base_uri": "https://localhost:8080/"
        },
        "id": "qMplI0LNrJno",
        "outputId": "811f216a-63d5-41f9-c108-d560651b19bc"
      },
      "outputs": [
        {
          "data": {
            "text/plain": [
              "[130.1850150872051,\n",
              " 130.42168492095516,\n",
              " 130.65835475469794,\n",
              " 130.895024588448,\n",
              " 131.13169442219078,\n",
              " 131.36836425594083,\n",
              " 131.6050340896909,\n",
              " 131.84170392343367,\n",
              " 132.07837375718373,\n",
              " 132.31504359093378,\n",
              " 132.55171342467656,\n",
              " 132.78838325842662]"
            ]
          },
          "execution_count": 21,
          "metadata": {},
          "output_type": "execute_result"
        }
      ],
      "source": [
        "c"
      ]
    },
    {
      "cell_type": "code",
      "execution_count": 22,
      "metadata": {
        "colab": {
          "base_uri": "https://localhost:8080/",
          "height": 265
        },
        "id": "tXok7a51q6vG",
        "outputId": "c17c4970-bec4-4d8d-b31d-c902a467156a"
      },
      "outputs": [
        {
          "data": {
            "image/png": "[encoded data removed]",
            "text/plain": [
              "<Figure size 432x288 with 1 Axes>"
            ]
          },
          "metadata": {
            "needs_background": "light"
          },
          "output_type": "display_data"
        }
      ],
      "source": [
        "month=data.iloc[:12,[3]].values\n",
        "plt.plot(month,c)\n",
        "plt.show()"
      ]
    },
    {
      "cell_type": "code",
      "execution_count": 23,
      "metadata": {
        "id": "elL-ZaYo-c9s"
      },
      "outputs": [],
      "source": [
        "warnings.simplefilter(action='ignore', category=UserWarning)"
      ]
    },
    {
      "cell_type": "markdown",
      "metadata": {
        "id": "SoDqgQ0G7X0N"
      },
      "source": [
        "# DecisionTreeRegressor"
      ]
    },
    {
      "cell_type": "code",
      "execution_count": 24,
      "metadata": {
        "colab": {
          "base_uri": "https://localhost:8080/"
        },
        "id": "To02FPhG1pa-",
        "outputId": "6143c87e-cb6b-4304-cb03-cef60b7f63cb"
      },
      "outputs": [
        {
          "data": {
            "text/plain": [
              "0.8086454646920715"
            ]
          },
          "execution_count": 24,
          "metadata": {},
          "output_type": "execute_result"
        }
      ],
      "source": [
        "from sklearn.tree import DecisionTreeRegressor\n",
        "from sklearn.metrics import fbeta_score, make_scorer\n",
        "dt = DecisionTreeRegressor()\n",
        "parameters = {'max_depth':(1,2,3,4,5,6,7,8,9,10)}\n",
        "scoring_function = make_scorer(fbeta_score, beta=2)\n",
        "dtg = GridSearchCV(dt, param_grid=parameters, scoring=scoring_function)\n",
        "piped = make_pipeline(ct,sc,dtg)\n",
        "piped.fit(x_train,y_train)\n",
        "y_pred=piped.predict(x_test)\n",
        "r2_score(y_test,y_pred)"
      ]
    },
    {
      "cell_type": "code",
      "execution_count": 25,
      "metadata": {
        "id": "OwOZhN4xtHov"
      },
      "outputs": [],
      "source": [
        "c_=[]\n",
        "for i in range(0,12):\n",
        "    c_.append(float(piped.predict([['colgate',2022,i]])))"
      ]
    },
    {
      "cell_type": "code",
      "execution_count": 26,
      "metadata": {
        "colab": {
          "base_uri": "https://localhost:8080/"
        },
        "id": "A9-OJNWutMww",
        "outputId": "7abc3a57-2e32-4510-a928-22320a9ed9c7"
      },
      "outputs": [
        {
          "data": {
            "text/plain": [
              "[69.16666666666667,\n",
              " 69.16666666666667,\n",
              " 69.16666666666667,\n",
              " 69.16666666666667,\n",
              " 69.16666666666667,\n",
              " 69.16666666666667,\n",
              " 69.16666666666667,\n",
              " 69.16666666666667,\n",
              " 69.16666666666667,\n",
              " 69.16666666666667,\n",
              " 69.16666666666667,\n",
              " 69.16666666666667]"
            ]
          },
          "execution_count": 26,
          "metadata": {},
          "output_type": "execute_result"
        }
      ],
      "source": [
        "c_"
      ]
    },
    {
      "cell_type": "code",
      "execution_count": 27,
      "metadata": {
        "colab": {
          "base_uri": "https://localhost:8080/",
          "height": 265
        },
        "id": "EuKNp6VxtBNC",
        "outputId": "7b345b44-843f-4260-b244-80f1b60236ad"
      },
      "outputs": [
        {
          "data": {
            "image/png": "[encoded data removed]",
            "text/plain": [
              "<Figure size 432x288 with 1 Axes>"
            ]
          },
          "metadata": {
            "needs_background": "light"
          },
          "output_type": "display_data"
        }
      ],
      "source": [
        "month=data.iloc[:12,[3]].values\n",
        "plt.plot(month,c_)\n",
        "plt.show()"
      ]
    },
    {
      "cell_type": "markdown",
      "metadata": {
        "id": "3AWvXWcbBwsu"
      },
      "source": [
        "# RandomForestRegressor"
      ]
    },
    {
      "cell_type": "code",
      "execution_count": 28,
      "metadata": {
        "colab": {
          "base_uri": "https://localhost:8080/"
        },
        "id": "G1CSqpxb_bid",
        "outputId": "7378c6f7-83e3-47bb-cb2e-3f10d7a687c1"
      },
      "outputs": [
        {
          "data": {
            "text/plain": [
              "0.9026506512930348"
            ]
          },
          "execution_count": 28,
          "metadata": {},
          "output_type": "execute_result"
        }
      ],
      "source": [
        "from sklearn.ensemble import RandomForestRegressor\n",
        "estimator = RandomForestRegressor()\n",
        "\n",
        "piper = make_pipeline(ct,estimator)\n",
        "piper.fit(x_train, y_train)\n",
        "y_pred= piper.predict(x_test)\n",
        "r2_score(y_test, y_pred)"
      ]
    },
    {
      "cell_type": "code",
      "execution_count": 29,
      "metadata": {},
      "outputs": [
        {
          "data": {
            "text/plain": [
              "array([407.15])"
            ]
          },
          "execution_count": 29,
          "metadata": {},
          "output_type": "execute_result"
        }
      ],
      "source": [
        "piper.predict([['suger',2023,1]])"
      ]
    },
    {
      "cell_type": "code",
      "execution_count": 30,
      "metadata": {
        "id": "uosZibJpuAmw"
      },
      "outputs": [],
      "source": [
        "k=data['product'].unique()\n",
        "colgate1=[]\n",
        "for j in range(1,13):\n",
        "    colgate1.append(float(piper.predict([['colgate',2022,j]])))"
      ]
    },
    {
      "cell_type": "code",
      "execution_count": 31,
      "metadata": {
        "colab": {
          "base_uri": "https://localhost:8080/"
        },
        "id": "iH5jfhCHKkY0",
        "outputId": "ddee3f85-dc93-47d7-d4cd-dca53a7ec91f"
      },
      "outputs": [
        {
          "data": {
            "text/plain": [
              "array(['colgate', 'gemini  tea powder', 'suger', 'freedom sunflower oil',\n",
              "       'life boy soap', 'santoor'], dtype=object)"
            ]
          },
          "execution_count": 31,
          "metadata": {},
          "output_type": "execute_result"
        }
      ],
      "source": [
        "k"
      ]
    },
    {
      "cell_type": "code",
      "execution_count": 32,
      "metadata": {
        "id": "biREQmditgxv"
      },
      "outputs": [],
      "source": [
        "p1=[]\n",
        "p2=[]\n",
        "p3=[]\n",
        "p4=[]\n",
        "p5=[]\n",
        "p6=[]\n",
        "for i in range(0,6):\n",
        "  for j in range(1,13):\n",
        "    if i==0:\n",
        "      p1.append(float(piper.predict([[k[i],2022,j]])))\n",
        "    if i==1:\n",
        "      p2.append(float(piper.predict([[k[i],2022,j]])))\n",
        "    if i==2:\n",
        "      p3.append(float(piper.predict([[k[i],2022,j]])))\n",
        "    if i==3:\n",
        "      p4.append(float(piper.predict([[k[i],2022,j]])))\n",
        "    if i==4:\n",
        "      p5.append(float(piper.predict([[k[i],2022,j]])))\n",
        "    if i==5:\n",
        "      p6.append(float(piper.predict([[k[i],2022,j]])))\n",
        "    \n"
      ]
    },
    {
      "cell_type": "code",
      "execution_count": 33,
      "metadata": {
        "colab": {
          "base_uri": "https://localhost:8080/"
        },
        "id": "TIylIBBixiuC",
        "outputId": "fa966242-0398-4700-db52-153d550feed3"
      },
      "outputs": [
        {
          "data": {
            "text/plain": [
              "[39.37,\n",
              " 41.47,\n",
              " 41.47,\n",
              " 41.29,\n",
              " 41.84,\n",
              " 42.73,\n",
              " 42.72,\n",
              " 42.56,\n",
              " 41.0,\n",
              " 41.12,\n",
              " 40.7,\n",
              " 40.7]"
            ]
          },
          "execution_count": 33,
          "metadata": {},
          "output_type": "execute_result"
        }
      ],
      "source": [
        "p2"
      ]
    },
    {
      "cell_type": "markdown",
      "metadata": {},
      "source": [
        "# month vs demand graph"
      ]
    },
    {
      "cell_type": "code",
      "execution_count": 34,
      "metadata": {
        "colab": {
          "base_uri": "https://localhost:8080/",
          "height": 295
        },
        "id": "RaIpUBBwt0GV",
        "outputId": "233a4b03-4e11-4286-9f2a-fc3a55961164"
      },
      "outputs": [
        {
          "data": {
            "image/png": "[encoded data removed]",
            "text/plain": [
              "<Figure size 432x288 with 1 Axes>"
            ]
          },
          "metadata": {
            "needs_background": "light"
          },
          "output_type": "display_data"
        }
      ],
      "source": [
        "month=data.iloc[:12,[3]].values\n",
        "plt.plot(month,p1,c='red',label='p1')\n",
        "plt.plot(month,p2,c='green',label='p2')\n",
        "plt.plot(month,p3,c='blue',label='p3')\n",
        "plt.plot(month,p4,c='magenta',label='p4')\n",
        "plt.plot(month,p5,c='cyan',label='p5')\n",
        "plt.plot(month,p6,c='black',label='p6')\n",
        "plt.title('month va sold products')\n",
        "plt.xlabel('month')\n",
        "plt.ylabel('products')\n",
        "plt.legend()\n",
        "plt.show()"
      ]
    },
    {
      "cell_type": "code",
      "execution_count": 35,
      "metadata": {
        "colab": {
          "base_uri": "https://localhost:8080/",
          "height": 266
        },
        "id": "4njQ3tdoLZ0c",
        "outputId": "e1337042-0293-467a-f0f5-b9c6e07ade11"
      },
      "outputs": [
        {
          "data": {
            "image/png": "[encoded data removed]",
            "text/plain": [
              "<Figure size 432x288 with 1 Axes>"
            ]
          },
          "metadata": {
            "needs_background": "light"
          },
          "output_type": "display_data"
        }
      ],
      "source": [
        "month=data.iloc[:12,[3]].values\n",
        "plt.plot(month,colgate1,c='red',label='p1')\n",
        "plt.show()"
      ]
    },
    {
      "cell_type": "code",
      "execution_count": 36,
      "metadata": {
        "colab": {
          "base_uri": "https://localhost:8080/"
        },
        "id": "WW0RMOAQaumf",
        "outputId": "171021f7-b97e-43b1-cfc2-160e2ed89aa3"
      },
      "outputs": [
        {
          "data": {
            "text/plain": [
              "array(['colgate', 'gemini  tea powder', 'suger', 'freedom sunflower oil',\n",
              "       'life boy soap', 'santoor'], dtype=object)"
            ]
          },
          "execution_count": 36,
          "metadata": {},
          "output_type": "execute_result"
        }
      ],
      "source": [
        "k"
      ]
    },
    {
      "cell_type": "code",
      "execution_count": 37,
      "metadata": {
        "id": "j4LbJeP-sdYW"
      },
      "outputs": [],
      "source": [
        "m=0\n",
        "n=36\n",
        "p=[]\n",
        "for i in range(0,6):\n",
        "    k[i]=data.iloc[m:n,[0,1,3,6]]\n",
        "    k[i]=pd.DataFrame(k[i])\n",
        "    k[i]=k[i].rename(columns={0:\"product\",1:'year',2:'month',3:'sold product'})\n",
        "    m= n\n",
        "    n=n+41\n"
      ]
    },
    {
      "cell_type": "code",
      "execution_count": 38,
      "metadata": {
        "id": "spdKOiX7sjRB"
      },
      "outputs": [],
      "source": [
        "b=k[0]['month'].unique().tolist()"
      ]
    },
    {
      "cell_type": "code",
      "execution_count": 39,
      "metadata": {},
      "outputs": [],
      "source": [
        "def to2D(twoD):\n",
        "    oneD = []\n",
        "    for i in twoD:\n",
        "        oneD.extend(i)\n",
        "    return(oneD)"
      ]
    },
    {
      "cell_type": "code",
      "execution_count": 40,
      "metadata": {},
      "outputs": [
        {
          "data": {
            "text/html": [
              "<div>\n",
              "<style scoped>\n",
              "    .dataframe tbody tr th:only-of-type {\n",
              "        vertical-align: middle;\n",
              "    }\n",
              "\n",
              "    .dataframe tbody tr th {\n",
              "        vertical-align: top;\n",
              "    }\n",
              "\n",
              "    .dataframe thead th {\n",
              "        text-align: right;\n",
              "    }\n",
              "</style>\n",
              "<table border=\"1\" class=\"dataframe\">\n",
              "  <thead>\n",
              "    <tr style=\"text-align: right;\">\n",
              "      <th></th>\n",
              "      <th>product</th>\n",
              "      <th>year</th>\n",
              "      <th>month</th>\n",
              "      <th>no. of products sold</th>\n",
              "    </tr>\n",
              "  </thead>\n",
              "  <tbody>\n",
              "    <tr>\n",
              "      <th>0</th>\n",
              "      <td>colgate</td>\n",
              "      <td>2019</td>\n",
              "      <td>1</td>\n",
              "      <td>46</td>\n",
              "    </tr>\n",
              "    <tr>\n",
              "      <th>1</th>\n",
              "      <td>colgate</td>\n",
              "      <td>2019</td>\n",
              "      <td>2</td>\n",
              "      <td>38</td>\n",
              "    </tr>\n",
              "    <tr>\n",
              "      <th>2</th>\n",
              "      <td>colgate</td>\n",
              "      <td>2019</td>\n",
              "      <td>3</td>\n",
              "      <td>47</td>\n",
              "    </tr>\n",
              "    <tr>\n",
              "      <th>3</th>\n",
              "      <td>colgate</td>\n",
              "      <td>2019</td>\n",
              "      <td>4</td>\n",
              "      <td>40</td>\n",
              "    </tr>\n",
              "    <tr>\n",
              "      <th>4</th>\n",
              "      <td>colgate</td>\n",
              "      <td>2019</td>\n",
              "      <td>5</td>\n",
              "      <td>58</td>\n",
              "    </tr>\n",
              "    <tr>\n",
              "      <th>5</th>\n",
              "      <td>colgate</td>\n",
              "      <td>2019</td>\n",
              "      <td>6</td>\n",
              "      <td>39</td>\n",
              "    </tr>\n",
              "    <tr>\n",
              "      <th>6</th>\n",
              "      <td>colgate</td>\n",
              "      <td>2019</td>\n",
              "      <td>7</td>\n",
              "      <td>51</td>\n",
              "    </tr>\n",
              "    <tr>\n",
              "      <th>7</th>\n",
              "      <td>colgate</td>\n",
              "      <td>2019</td>\n",
              "      <td>8</td>\n",
              "      <td>47</td>\n",
              "    </tr>\n",
              "    <tr>\n",
              "      <th>8</th>\n",
              "      <td>colgate</td>\n",
              "      <td>2019</td>\n",
              "      <td>9</td>\n",
              "      <td>56</td>\n",
              "    </tr>\n",
              "    <tr>\n",
              "      <th>9</th>\n",
              "      <td>colgate</td>\n",
              "      <td>2019</td>\n",
              "      <td>10</td>\n",
              "      <td>44</td>\n",
              "    </tr>\n",
              "    <tr>\n",
              "      <th>10</th>\n",
              "      <td>colgate</td>\n",
              "      <td>2019</td>\n",
              "      <td>11</td>\n",
              "      <td>16</td>\n",
              "    </tr>\n",
              "    <tr>\n",
              "      <th>11</th>\n",
              "      <td>colgate</td>\n",
              "      <td>2019</td>\n",
              "      <td>12</td>\n",
              "      <td>48</td>\n",
              "    </tr>\n",
              "    <tr>\n",
              "      <th>12</th>\n",
              "      <td>colgate</td>\n",
              "      <td>2020</td>\n",
              "      <td>1</td>\n",
              "      <td>56</td>\n",
              "    </tr>\n",
              "    <tr>\n",
              "      <th>13</th>\n",
              "      <td>colgate</td>\n",
              "      <td>2020</td>\n",
              "      <td>2</td>\n",
              "      <td>86</td>\n",
              "    </tr>\n",
              "    <tr>\n",
              "      <th>14</th>\n",
              "      <td>colgate</td>\n",
              "      <td>2020</td>\n",
              "      <td>3</td>\n",
              "      <td>59</td>\n",
              "    </tr>\n",
              "    <tr>\n",
              "      <th>15</th>\n",
              "      <td>colgate</td>\n",
              "      <td>2020</td>\n",
              "      <td>4</td>\n",
              "      <td>86</td>\n",
              "    </tr>\n",
              "    <tr>\n",
              "      <th>16</th>\n",
              "      <td>colgate</td>\n",
              "      <td>2020</td>\n",
              "      <td>5</td>\n",
              "      <td>75</td>\n",
              "    </tr>\n",
              "    <tr>\n",
              "      <th>17</th>\n",
              "      <td>colgate</td>\n",
              "      <td>2020</td>\n",
              "      <td>6</td>\n",
              "      <td>59</td>\n",
              "    </tr>\n",
              "    <tr>\n",
              "      <th>18</th>\n",
              "      <td>colgate</td>\n",
              "      <td>2020</td>\n",
              "      <td>7</td>\n",
              "      <td>81</td>\n",
              "    </tr>\n",
              "    <tr>\n",
              "      <th>19</th>\n",
              "      <td>colgate</td>\n",
              "      <td>2020</td>\n",
              "      <td>8</td>\n",
              "      <td>67</td>\n",
              "    </tr>\n",
              "    <tr>\n",
              "      <th>20</th>\n",
              "      <td>colgate</td>\n",
              "      <td>2020</td>\n",
              "      <td>9</td>\n",
              "      <td>62</td>\n",
              "    </tr>\n",
              "    <tr>\n",
              "      <th>21</th>\n",
              "      <td>colgate</td>\n",
              "      <td>2020</td>\n",
              "      <td>10</td>\n",
              "      <td>56</td>\n",
              "    </tr>\n",
              "    <tr>\n",
              "      <th>22</th>\n",
              "      <td>colgate</td>\n",
              "      <td>2020</td>\n",
              "      <td>11</td>\n",
              "      <td>71</td>\n",
              "    </tr>\n",
              "    <tr>\n",
              "      <th>23</th>\n",
              "      <td>colgate</td>\n",
              "      <td>2020</td>\n",
              "      <td>12</td>\n",
              "      <td>58</td>\n",
              "    </tr>\n",
              "    <tr>\n",
              "      <th>24</th>\n",
              "      <td>colgate</td>\n",
              "      <td>2021</td>\n",
              "      <td>1</td>\n",
              "      <td>74</td>\n",
              "    </tr>\n",
              "    <tr>\n",
              "      <th>25</th>\n",
              "      <td>colgate</td>\n",
              "      <td>2021</td>\n",
              "      <td>2</td>\n",
              "      <td>86</td>\n",
              "    </tr>\n",
              "    <tr>\n",
              "      <th>26</th>\n",
              "      <td>colgate</td>\n",
              "      <td>2021</td>\n",
              "      <td>3</td>\n",
              "      <td>89</td>\n",
              "    </tr>\n",
              "    <tr>\n",
              "      <th>27</th>\n",
              "      <td>colgate</td>\n",
              "      <td>2021</td>\n",
              "      <td>4</td>\n",
              "      <td>95</td>\n",
              "    </tr>\n",
              "    <tr>\n",
              "      <th>28</th>\n",
              "      <td>colgate</td>\n",
              "      <td>2021</td>\n",
              "      <td>5</td>\n",
              "      <td>112</td>\n",
              "    </tr>\n",
              "    <tr>\n",
              "      <th>29</th>\n",
              "      <td>colgate</td>\n",
              "      <td>2021</td>\n",
              "      <td>6</td>\n",
              "      <td>98</td>\n",
              "    </tr>\n",
              "    <tr>\n",
              "      <th>30</th>\n",
              "      <td>colgate</td>\n",
              "      <td>2021</td>\n",
              "      <td>7</td>\n",
              "      <td>99</td>\n",
              "    </tr>\n",
              "    <tr>\n",
              "      <th>31</th>\n",
              "      <td>colgate</td>\n",
              "      <td>2021</td>\n",
              "      <td>8</td>\n",
              "      <td>115</td>\n",
              "    </tr>\n",
              "    <tr>\n",
              "      <th>32</th>\n",
              "      <td>colgate</td>\n",
              "      <td>2021</td>\n",
              "      <td>9</td>\n",
              "      <td>112</td>\n",
              "    </tr>\n",
              "    <tr>\n",
              "      <th>33</th>\n",
              "      <td>colgate</td>\n",
              "      <td>2021</td>\n",
              "      <td>10</td>\n",
              "      <td>98</td>\n",
              "    </tr>\n",
              "    <tr>\n",
              "      <th>34</th>\n",
              "      <td>colgate</td>\n",
              "      <td>2021</td>\n",
              "      <td>11</td>\n",
              "      <td>110</td>\n",
              "    </tr>\n",
              "    <tr>\n",
              "      <th>35</th>\n",
              "      <td>colgate</td>\n",
              "      <td>2021</td>\n",
              "      <td>12</td>\n",
              "      <td>109</td>\n",
              "    </tr>\n",
              "  </tbody>\n",
              "</table>\n",
              "</div>"
            ],
            "text/plain": [
              "    product  year  month  no. of products sold\n",
              "0   colgate  2019      1                    46\n",
              "1   colgate  2019      2                    38\n",
              "2   colgate  2019      3                    47\n",
              "3   colgate  2019      4                    40\n",
              "4   colgate  2019      5                    58\n",
              "5   colgate  2019      6                    39\n",
              "6   colgate  2019      7                    51\n",
              "7   colgate  2019      8                    47\n",
              "8   colgate  2019      9                    56\n",
              "9   colgate  2019     10                    44\n",
              "10  colgate  2019     11                    16\n",
              "11  colgate  2019     12                    48\n",
              "12  colgate  2020      1                    56\n",
              "13  colgate  2020      2                    86\n",
              "14  colgate  2020      3                    59\n",
              "15  colgate  2020      4                    86\n",
              "16  colgate  2020      5                    75\n",
              "17  colgate  2020      6                    59\n",
              "18  colgate  2020      7                    81\n",
              "19  colgate  2020      8                    67\n",
              "20  colgate  2020      9                    62\n",
              "21  colgate  2020     10                    56\n",
              "22  colgate  2020     11                    71\n",
              "23  colgate  2020     12                    58\n",
              "24  colgate  2021      1                    74\n",
              "25  colgate  2021      2                    86\n",
              "26  colgate  2021      3                    89\n",
              "27  colgate  2021      4                    95\n",
              "28  colgate  2021      5                   112\n",
              "29  colgate  2021      6                    98\n",
              "30  colgate  2021      7                    99\n",
              "31  colgate  2021      8                   115\n",
              "32  colgate  2021      9                   112\n",
              "33  colgate  2021     10                    98\n",
              "34  colgate  2021     11                   110\n",
              "35  colgate  2021     12                   109"
            ]
          },
          "execution_count": 40,
          "metadata": {},
          "output_type": "execute_result"
        }
      ],
      "source": [
        "k[0]"
      ]
    },
    {
      "cell_type": "code",
      "execution_count": 41,
      "metadata": {},
      "outputs": [
        {
          "data": {
            "text/plain": [
              "[74, 86, 89, 95, 112, 98, 99, 115, 112, 98, 110, 109]"
            ]
          },
          "execution_count": 41,
          "metadata": {},
          "output_type": "execute_result"
        }
      ],
      "source": [
        "\n",
        "to2D(k[0].iloc[24:36,[3]].values.tolist())"
      ]
    },
    {
      "cell_type": "markdown",
      "metadata": {},
      "source": [
        "# pie chart"
      ]
    },
    {
      "cell_type": "code",
      "execution_count": 42,
      "metadata": {},
      "outputs": [
        {
          "data": {
            "text/plain": [
              "Text(0.5, 1.0, 'colgate 2021')"
            ]
          },
          "execution_count": 42,
          "metadata": {},
          "output_type": "execute_result"
        },
        {
          "data": {
            "image/png": "[encoded data removed]",
            "text/plain": [
              "<Figure size 432x288 with 1 Axes>"
            ]
          },
          "metadata": {},
          "output_type": "display_data"
        },
        {
          "data": {
            "image/png": "[encoded data removed]",
            "text/plain": [
              "<Figure size 432x288 with 1 Axes>"
            ]
          },
          "metadata": {},
          "output_type": "display_data"
        },
        {
          "data": {
            "image/png": "[encoded data removed]",
            "text/plain": [
              "<Figure size 432x288 with 1 Axes>"
            ]
          },
          "metadata": {},
          "output_type": "display_data"
        }
      ],
      "source": [
        "fig, ax = plt.subplots()\n",
        "ax.pie(to2D(k[0].iloc[:12,[3]].values.tolist()),labels=b,autopct='%1.1f%%')\n",
        "ax.set_title('colgate 2019')\n",
        "fig,ax2 = plt.subplots()\n",
        "ax2.pie(to2D(k[0].iloc[12:24,[3]].values.tolist()),labels=b,autopct='%1.1f%%')\n",
        "ax2.set_title('colgate 2020')\n",
        "fig,ax3 = plt.subplots()\n",
        "ax3.pie(to2D(k[0].iloc[24:36,[3]].values.tolist()),labels=b,autopct='%1.1f%%')\n",
        "ax3.set_title('colgate 2021')"
      ]
    },
    {
      "cell_type": "markdown",
      "metadata": {},
      "source": [
        "# Bar graph"
      ]
    },
    {
      "cell_type": "code",
      "execution_count": 43,
      "metadata": {},
      "outputs": [],
      "source": [
        "for i in range(0,6):\n",
        "  k[i]=k[i].pivot(index='month', columns = 'year',values = 'no. of products sold')"
      ]
    },
    {
      "cell_type": "code",
      "execution_count": 44,
      "metadata": {
        "colab": {
          "base_uri": "https://localhost:8080/",
          "height": 1000
        },
        "id": "-sQO4Suzvq1m",
        "outputId": "46a6721c-ffc0-4d7e-ee4f-7303903639af"
      },
      "outputs": [
        {
          "data": {
            "image/png": "[encoded data removed]",
            "text/plain": [
              "<Figure size 720x432 with 1 Axes>"
            ]
          },
          "metadata": {
            "needs_background": "light"
          },
          "output_type": "display_data"
        },
        {
          "data": {
            "image/png": "[encoded data removed]",
            "text/plain": [
              "<Figure size 720x432 with 1 Axes>"
            ]
          },
          "metadata": {
            "needs_background": "light"
          },
          "output_type": "display_data"
        },
        {
          "data": {
            "image/png": "[encoded data removed]",
            "text/plain": [
              "<Figure size 720x432 with 1 Axes>"
            ]
          },
          "metadata": {
            "needs_background": "light"
          },
          "output_type": "display_data"
        },
        {
          "data": {
            "image/png": "[encoded data removed]",
            "text/plain": [
              "<Figure size 720x432 with 1 Axes>"
            ]
          },
          "metadata": {
            "needs_background": "light"
          },
          "output_type": "display_data"
        },
        {
          "data": {
            "image/png": "[encoded data removed]",
            "text/plain": [
              "<Figure size 720x432 with 1 Axes>"
            ]
          },
          "metadata": {
            "needs_background": "light"
          },
          "output_type": "display_data"
        },
        {
          "data": {
            "image/png": "[encoded data removed]",
            "text/plain": [
              "<Figure size 720x432 with 1 Axes>"
            ]
          },
          "metadata": {
            "needs_background": "light"
          },
          "output_type": "display_data"
        }
      ],
      "source": [
        "for i in range(0,6):\n",
        "  k[i].plot(kind='bar',figsize=(10,6))\n",
        "  plt.xlabel('month')\n",
        "  plt.ylabel('sold product')"
      ]
    },
    {
      "cell_type": "code",
      "execution_count": 45,
      "metadata": {
        "id": "XNzMrvMydy-N"
      },
      "outputs": [
        {
          "data": {
            "text/html": [
              "<div>\n",
              "<style scoped>\n",
              "    .dataframe tbody tr th:only-of-type {\n",
              "        vertical-align: middle;\n",
              "    }\n",
              "\n",
              "    .dataframe tbody tr th {\n",
              "        vertical-align: top;\n",
              "    }\n",
              "\n",
              "    .dataframe thead th {\n",
              "        text-align: right;\n",
              "    }\n",
              "</style>\n",
              "<table border=\"1\" class=\"dataframe\">\n",
              "  <thead>\n",
              "    <tr style=\"text-align: right;\">\n",
              "      <th></th>\n",
              "      <th>product</th>\n",
              "      <th>year</th>\n",
              "      <th>month</th>\n",
              "      <th>sold product</th>\n",
              "    </tr>\n",
              "  </thead>\n",
              "  <tbody>\n",
              "    <tr>\n",
              "      <th>0</th>\n",
              "      <td>colgate</td>\n",
              "      <td>2019</td>\n",
              "      <td>2.0</td>\n",
              "      <td>60</td>\n",
              "    </tr>\n",
              "    <tr>\n",
              "      <th>1</th>\n",
              "      <td>colgate</td>\n",
              "      <td>2019</td>\n",
              "      <td>2.0</td>\n",
              "      <td>46</td>\n",
              "    </tr>\n",
              "    <tr>\n",
              "      <th>2</th>\n",
              "      <td>colgate</td>\n",
              "      <td>2019</td>\n",
              "      <td>2.0</td>\n",
              "      <td>62</td>\n",
              "    </tr>\n",
              "    <tr>\n",
              "      <th>3</th>\n",
              "      <td>colgate</td>\n",
              "      <td>2019</td>\n",
              "      <td>2.0</td>\n",
              "      <td>51</td>\n",
              "    </tr>\n",
              "    <tr>\n",
              "      <th>4</th>\n",
              "      <td>colgate</td>\n",
              "      <td>2019</td>\n",
              "      <td>2.0</td>\n",
              "      <td>67</td>\n",
              "    </tr>\n",
              "    <tr>\n",
              "      <th>5</th>\n",
              "      <td>colgate</td>\n",
              "      <td>2019</td>\n",
              "      <td>2.0</td>\n",
              "      <td>50</td>\n",
              "    </tr>\n",
              "    <tr>\n",
              "      <th>6</th>\n",
              "      <td>colgate</td>\n",
              "      <td>2019</td>\n",
              "      <td>2.0</td>\n",
              "      <td>69</td>\n",
              "    </tr>\n",
              "    <tr>\n",
              "      <th>7</th>\n",
              "      <td>colgate</td>\n",
              "      <td>2019</td>\n",
              "      <td>2.0</td>\n",
              "      <td>47</td>\n",
              "    </tr>\n",
              "    <tr>\n",
              "      <th>8</th>\n",
              "      <td>colgate</td>\n",
              "      <td>2019</td>\n",
              "      <td>2.0</td>\n",
              "      <td>100</td>\n",
              "    </tr>\n",
              "    <tr>\n",
              "      <th>9</th>\n",
              "      <td>colgate</td>\n",
              "      <td>2019</td>\n",
              "      <td>2.0</td>\n",
              "      <td>44</td>\n",
              "    </tr>\n",
              "    <tr>\n",
              "      <th>10</th>\n",
              "      <td>colgate</td>\n",
              "      <td>2019</td>\n",
              "      <td>2.0</td>\n",
              "      <td>38</td>\n",
              "    </tr>\n",
              "    <tr>\n",
              "      <th>11</th>\n",
              "      <td>colgate</td>\n",
              "      <td>2019</td>\n",
              "      <td>2.0</td>\n",
              "      <td>52</td>\n",
              "    </tr>\n",
              "    <tr>\n",
              "      <th>12</th>\n",
              "      <td>colgate</td>\n",
              "      <td>2020</td>\n",
              "      <td>2.0</td>\n",
              "      <td>76</td>\n",
              "    </tr>\n",
              "    <tr>\n",
              "      <th>13</th>\n",
              "      <td>colgate</td>\n",
              "      <td>2020</td>\n",
              "      <td>2.0</td>\n",
              "      <td>98</td>\n",
              "    </tr>\n",
              "    <tr>\n",
              "      <th>14</th>\n",
              "      <td>colgate</td>\n",
              "      <td>2020</td>\n",
              "      <td>2.0</td>\n",
              "      <td>72</td>\n",
              "    </tr>\n",
              "    <tr>\n",
              "      <th>15</th>\n",
              "      <td>colgate</td>\n",
              "      <td>2020</td>\n",
              "      <td>2.0</td>\n",
              "      <td>113</td>\n",
              "    </tr>\n",
              "    <tr>\n",
              "      <th>16</th>\n",
              "      <td>colgate</td>\n",
              "      <td>2020</td>\n",
              "      <td>2.0</td>\n",
              "      <td>99</td>\n",
              "    </tr>\n",
              "    <tr>\n",
              "      <th>17</th>\n",
              "      <td>colgate</td>\n",
              "      <td>2020</td>\n",
              "      <td>2.0</td>\n",
              "      <td>84</td>\n",
              "    </tr>\n",
              "    <tr>\n",
              "      <th>18</th>\n",
              "      <td>colgate</td>\n",
              "      <td>2020</td>\n",
              "      <td>2.0</td>\n",
              "      <td>90</td>\n",
              "    </tr>\n",
              "    <tr>\n",
              "      <th>19</th>\n",
              "      <td>colgate</td>\n",
              "      <td>2020</td>\n",
              "      <td>2.0</td>\n",
              "      <td>67</td>\n",
              "    </tr>\n",
              "    <tr>\n",
              "      <th>20</th>\n",
              "      <td>colgate</td>\n",
              "      <td>2020</td>\n",
              "      <td>2.0</td>\n",
              "      <td>70</td>\n",
              "    </tr>\n",
              "    <tr>\n",
              "      <th>21</th>\n",
              "      <td>colgate</td>\n",
              "      <td>2020</td>\n",
              "      <td>2.0</td>\n",
              "      <td>78</td>\n",
              "    </tr>\n",
              "    <tr>\n",
              "      <th>22</th>\n",
              "      <td>colgate</td>\n",
              "      <td>2020</td>\n",
              "      <td>2.0</td>\n",
              "      <td>82</td>\n",
              "    </tr>\n",
              "    <tr>\n",
              "      <th>23</th>\n",
              "      <td>colgate</td>\n",
              "      <td>2020</td>\n",
              "      <td>2.0</td>\n",
              "      <td>61</td>\n",
              "    </tr>\n",
              "    <tr>\n",
              "      <th>24</th>\n",
              "      <td>colgate</td>\n",
              "      <td>2021</td>\n",
              "      <td>2.0</td>\n",
              "      <td>79</td>\n",
              "    </tr>\n",
              "    <tr>\n",
              "      <th>25</th>\n",
              "      <td>colgate</td>\n",
              "      <td>2021</td>\n",
              "      <td>2.0</td>\n",
              "      <td>95</td>\n",
              "    </tr>\n",
              "    <tr>\n",
              "      <th>26</th>\n",
              "      <td>colgate</td>\n",
              "      <td>2021</td>\n",
              "      <td>2.0</td>\n",
              "      <td>109</td>\n",
              "    </tr>\n",
              "    <tr>\n",
              "      <th>27</th>\n",
              "      <td>colgate</td>\n",
              "      <td>2021</td>\n",
              "      <td>2.0</td>\n",
              "      <td>120</td>\n",
              "    </tr>\n",
              "    <tr>\n",
              "      <th>28</th>\n",
              "      <td>colgate</td>\n",
              "      <td>2021</td>\n",
              "      <td>2.0</td>\n",
              "      <td>135</td>\n",
              "    </tr>\n",
              "    <tr>\n",
              "      <th>29</th>\n",
              "      <td>colgate</td>\n",
              "      <td>2021</td>\n",
              "      <td>2.0</td>\n",
              "      <td>123</td>\n",
              "    </tr>\n",
              "    <tr>\n",
              "      <th>30</th>\n",
              "      <td>colgate</td>\n",
              "      <td>2021</td>\n",
              "      <td>2.0</td>\n",
              "      <td>125</td>\n",
              "    </tr>\n",
              "    <tr>\n",
              "      <th>31</th>\n",
              "      <td>colgate</td>\n",
              "      <td>2021</td>\n",
              "      <td>2.0</td>\n",
              "      <td>136</td>\n",
              "    </tr>\n",
              "    <tr>\n",
              "      <th>32</th>\n",
              "      <td>colgate</td>\n",
              "      <td>2021</td>\n",
              "      <td>2.0</td>\n",
              "      <td>121</td>\n",
              "    </tr>\n",
              "    <tr>\n",
              "      <th>33</th>\n",
              "      <td>colgate</td>\n",
              "      <td>2021</td>\n",
              "      <td>2.0</td>\n",
              "      <td>119</td>\n",
              "    </tr>\n",
              "    <tr>\n",
              "      <th>34</th>\n",
              "      <td>colgate</td>\n",
              "      <td>2021</td>\n",
              "      <td>2.0</td>\n",
              "      <td>121</td>\n",
              "    </tr>\n",
              "    <tr>\n",
              "      <th>35</th>\n",
              "      <td>colgate</td>\n",
              "      <td>2021</td>\n",
              "      <td>2.0</td>\n",
              "      <td>111</td>\n",
              "    </tr>\n",
              "  </tbody>\n",
              "</table>\n",
              "</div>"
            ],
            "text/plain": [
              "    product  year month sold product\n",
              "0   colgate  2019   2.0           60\n",
              "1   colgate  2019   2.0           46\n",
              "2   colgate  2019   2.0           62\n",
              "3   colgate  2019   2.0           51\n",
              "4   colgate  2019   2.0           67\n",
              "5   colgate  2019   2.0           50\n",
              "6   colgate  2019   2.0           69\n",
              "7   colgate  2019   2.0           47\n",
              "8   colgate  2019   2.0          100\n",
              "9   colgate  2019   2.0           44\n",
              "10  colgate  2019   2.0           38\n",
              "11  colgate  2019   2.0           52\n",
              "12  colgate  2020   2.0           76\n",
              "13  colgate  2020   2.0           98\n",
              "14  colgate  2020   2.0           72\n",
              "15  colgate  2020   2.0          113\n",
              "16  colgate  2020   2.0           99\n",
              "17  colgate  2020   2.0           84\n",
              "18  colgate  2020   2.0           90\n",
              "19  colgate  2020   2.0           67\n",
              "20  colgate  2020   2.0           70\n",
              "21  colgate  2020   2.0           78\n",
              "22  colgate  2020   2.0           82\n",
              "23  colgate  2020   2.0           61\n",
              "24  colgate  2021   2.0           79\n",
              "25  colgate  2021   2.0           95\n",
              "26  colgate  2021   2.0          109\n",
              "27  colgate  2021   2.0          120\n",
              "28  colgate  2021   2.0          135\n",
              "29  colgate  2021   2.0          123\n",
              "30  colgate  2021   2.0          125\n",
              "31  colgate  2021   2.0          136\n",
              "32  colgate  2021   2.0          121\n",
              "33  colgate  2021   2.0          119\n",
              "34  colgate  2021   2.0          121\n",
              "35  colgate  2021   2.0          111"
            ]
          },
          "execution_count": 45,
          "metadata": {},
          "output_type": "execute_result"
        }
      ],
      "source": [
        "colgate=data.iloc[:36,[0,1,2,5]].values\n",
        "colgate=pd.DataFrame(colgate)\n",
        "colgate=colgate.rename(columns={0:\"product\",1:'year',2:'month',3:'sold product'})\n",
        "colgate"
      ]
    },
    {
      "cell_type": "code",
      "execution_count": 46,
      "metadata": {
        "id": "9hjHpNfenMGk"
      },
      "outputs": [
        {
          "data": {
            "text/html": [
              "<div>\n",
              "<style scoped>\n",
              "    .dataframe tbody tr th:only-of-type {\n",
              "        vertical-align: middle;\n",
              "    }\n",
              "\n",
              "    .dataframe tbody tr th {\n",
              "        vertical-align: top;\n",
              "    }\n",
              "\n",
              "    .dataframe thead th {\n",
              "        text-align: right;\n",
              "    }\n",
              "</style>\n",
              "<table border=\"1\" class=\"dataframe\">\n",
              "  <thead>\n",
              "    <tr style=\"text-align: right;\">\n",
              "      <th></th>\n",
              "      <th>product</th>\n",
              "      <th>year</th>\n",
              "      <th>month</th>\n",
              "      <th>sold product</th>\n",
              "    </tr>\n",
              "  </thead>\n",
              "  <tbody>\n",
              "    <tr>\n",
              "      <th>0</th>\n",
              "      <td>gemini  tea powder</td>\n",
              "      <td>2019</td>\n",
              "      <td>2.0</td>\n",
              "      <td>20</td>\n",
              "    </tr>\n",
              "    <tr>\n",
              "      <th>1</th>\n",
              "      <td>gemini  tea powder</td>\n",
              "      <td>2019</td>\n",
              "      <td>2.0</td>\n",
              "      <td>28</td>\n",
              "    </tr>\n",
              "    <tr>\n",
              "      <th>2</th>\n",
              "      <td>gemini  tea powder</td>\n",
              "      <td>2019</td>\n",
              "      <td>2.0</td>\n",
              "      <td>23</td>\n",
              "    </tr>\n",
              "    <tr>\n",
              "      <th>3</th>\n",
              "      <td>gemini  tea powder</td>\n",
              "      <td>2019</td>\n",
              "      <td>2.0</td>\n",
              "      <td>20</td>\n",
              "    </tr>\n",
              "    <tr>\n",
              "      <th>4</th>\n",
              "      <td>gemini  tea powder</td>\n",
              "      <td>2019</td>\n",
              "      <td>2.0</td>\n",
              "      <td>31</td>\n",
              "    </tr>\n",
              "    <tr>\n",
              "      <th>5</th>\n",
              "      <td>gemini  tea powder</td>\n",
              "      <td>2019</td>\n",
              "      <td>2.0</td>\n",
              "      <td>30</td>\n",
              "    </tr>\n",
              "    <tr>\n",
              "      <th>6</th>\n",
              "      <td>gemini  tea powder</td>\n",
              "      <td>2019</td>\n",
              "      <td>2.0</td>\n",
              "      <td>36</td>\n",
              "    </tr>\n",
              "    <tr>\n",
              "      <th>7</th>\n",
              "      <td>gemini  tea powder</td>\n",
              "      <td>2019</td>\n",
              "      <td>2.0</td>\n",
              "      <td>20</td>\n",
              "    </tr>\n",
              "    <tr>\n",
              "      <th>8</th>\n",
              "      <td>gemini  tea powder</td>\n",
              "      <td>2019</td>\n",
              "      <td>2.0</td>\n",
              "      <td>20</td>\n",
              "    </tr>\n",
              "    <tr>\n",
              "      <th>9</th>\n",
              "      <td>gemini  tea powder</td>\n",
              "      <td>2019</td>\n",
              "      <td>2.0</td>\n",
              "      <td>16</td>\n",
              "    </tr>\n",
              "    <tr>\n",
              "      <th>10</th>\n",
              "      <td>gemini  tea powder</td>\n",
              "      <td>2019</td>\n",
              "      <td>2.0</td>\n",
              "      <td>20</td>\n",
              "    </tr>\n",
              "    <tr>\n",
              "      <th>11</th>\n",
              "      <td>gemini  tea powder</td>\n",
              "      <td>2019</td>\n",
              "      <td>2.0</td>\n",
              "      <td>23</td>\n",
              "    </tr>\n",
              "    <tr>\n",
              "      <th>12</th>\n",
              "      <td>gemini  tea powder</td>\n",
              "      <td>2020</td>\n",
              "      <td>2.0</td>\n",
              "      <td>29</td>\n",
              "    </tr>\n",
              "    <tr>\n",
              "      <th>13</th>\n",
              "      <td>gemini  tea powder</td>\n",
              "      <td>2020</td>\n",
              "      <td>2.0</td>\n",
              "      <td>29</td>\n",
              "    </tr>\n",
              "    <tr>\n",
              "      <th>14</th>\n",
              "      <td>gemini  tea powder</td>\n",
              "      <td>2020</td>\n",
              "      <td>2.0</td>\n",
              "      <td>40</td>\n",
              "    </tr>\n",
              "    <tr>\n",
              "      <th>15</th>\n",
              "      <td>gemini  tea powder</td>\n",
              "      <td>2020</td>\n",
              "      <td>2.0</td>\n",
              "      <td>37</td>\n",
              "    </tr>\n",
              "    <tr>\n",
              "      <th>16</th>\n",
              "      <td>gemini  tea powder</td>\n",
              "      <td>2020</td>\n",
              "      <td>2.0</td>\n",
              "      <td>34</td>\n",
              "    </tr>\n",
              "    <tr>\n",
              "      <th>17</th>\n",
              "      <td>gemini  tea powder</td>\n",
              "      <td>2020</td>\n",
              "      <td>2.0</td>\n",
              "      <td>28</td>\n",
              "    </tr>\n",
              "    <tr>\n",
              "      <th>18</th>\n",
              "      <td>gemini  tea powder</td>\n",
              "      <td>2020</td>\n",
              "      <td>2.0</td>\n",
              "      <td>40</td>\n",
              "    </tr>\n",
              "    <tr>\n",
              "      <th>19</th>\n",
              "      <td>gemini  tea powder</td>\n",
              "      <td>2020</td>\n",
              "      <td>2.0</td>\n",
              "      <td>35</td>\n",
              "    </tr>\n",
              "    <tr>\n",
              "      <th>20</th>\n",
              "      <td>gemini  tea powder</td>\n",
              "      <td>2020</td>\n",
              "      <td>2.0</td>\n",
              "      <td>34</td>\n",
              "    </tr>\n",
              "    <tr>\n",
              "      <th>21</th>\n",
              "      <td>gemini  tea powder</td>\n",
              "      <td>2020</td>\n",
              "      <td>2.0</td>\n",
              "      <td>43</td>\n",
              "    </tr>\n",
              "    <tr>\n",
              "      <th>22</th>\n",
              "      <td>gemini  tea powder</td>\n",
              "      <td>2020</td>\n",
              "      <td>2.0</td>\n",
              "      <td>45</td>\n",
              "    </tr>\n",
              "    <tr>\n",
              "      <th>23</th>\n",
              "      <td>gemini  tea powder</td>\n",
              "      <td>2020</td>\n",
              "      <td>2.0</td>\n",
              "      <td>42</td>\n",
              "    </tr>\n",
              "    <tr>\n",
              "      <th>24</th>\n",
              "      <td>gemini  tea powder</td>\n",
              "      <td>2021</td>\n",
              "      <td>2.0</td>\n",
              "      <td>29</td>\n",
              "    </tr>\n",
              "    <tr>\n",
              "      <th>25</th>\n",
              "      <td>gemini  tea powder</td>\n",
              "      <td>2021</td>\n",
              "      <td>2.0</td>\n",
              "      <td>43</td>\n",
              "    </tr>\n",
              "    <tr>\n",
              "      <th>26</th>\n",
              "      <td>gemini  tea powder</td>\n",
              "      <td>2021</td>\n",
              "      <td>2.0</td>\n",
              "      <td>40</td>\n",
              "    </tr>\n",
              "    <tr>\n",
              "      <th>27</th>\n",
              "      <td>gemini  tea powder</td>\n",
              "      <td>2021</td>\n",
              "      <td>2.0</td>\n",
              "      <td>27</td>\n",
              "    </tr>\n",
              "    <tr>\n",
              "      <th>28</th>\n",
              "      <td>gemini  tea powder</td>\n",
              "      <td>2021</td>\n",
              "      <td>2.0</td>\n",
              "      <td>40</td>\n",
              "    </tr>\n",
              "    <tr>\n",
              "      <th>29</th>\n",
              "      <td>gemini  tea powder</td>\n",
              "      <td>2021</td>\n",
              "      <td>2.0</td>\n",
              "      <td>44</td>\n",
              "    </tr>\n",
              "    <tr>\n",
              "      <th>30</th>\n",
              "      <td>gemini  tea powder</td>\n",
              "      <td>2021</td>\n",
              "      <td>2.0</td>\n",
              "      <td>48</td>\n",
              "    </tr>\n",
              "    <tr>\n",
              "      <th>31</th>\n",
              "      <td>gemini  tea powder</td>\n",
              "      <td>2021</td>\n",
              "      <td>2.0</td>\n",
              "      <td>49</td>\n",
              "    </tr>\n",
              "    <tr>\n",
              "      <th>32</th>\n",
              "      <td>gemini  tea powder</td>\n",
              "      <td>2021</td>\n",
              "      <td>2.0</td>\n",
              "      <td>46</td>\n",
              "    </tr>\n",
              "    <tr>\n",
              "      <th>33</th>\n",
              "      <td>gemini  tea powder</td>\n",
              "      <td>2021</td>\n",
              "      <td>2.0</td>\n",
              "      <td>49</td>\n",
              "    </tr>\n",
              "    <tr>\n",
              "      <th>34</th>\n",
              "      <td>gemini  tea powder</td>\n",
              "      <td>2021</td>\n",
              "      <td>2.0</td>\n",
              "      <td>45</td>\n",
              "    </tr>\n",
              "    <tr>\n",
              "      <th>35</th>\n",
              "      <td>gemini  tea powder</td>\n",
              "      <td>2021</td>\n",
              "      <td>2.0</td>\n",
              "      <td>52</td>\n",
              "    </tr>\n",
              "  </tbody>\n",
              "</table>\n",
              "</div>"
            ],
            "text/plain": [
              "               product  year month sold product\n",
              "0   gemini  tea powder  2019   2.0           20\n",
              "1   gemini  tea powder  2019   2.0           28\n",
              "2   gemini  tea powder  2019   2.0           23\n",
              "3   gemini  tea powder  2019   2.0           20\n",
              "4   gemini  tea powder  2019   2.0           31\n",
              "5   gemini  tea powder  2019   2.0           30\n",
              "6   gemini  tea powder  2019   2.0           36\n",
              "7   gemini  tea powder  2019   2.0           20\n",
              "8   gemini  tea powder  2019   2.0           20\n",
              "9   gemini  tea powder  2019   2.0           16\n",
              "10  gemini  tea powder  2019   2.0           20\n",
              "11  gemini  tea powder  2019   2.0           23\n",
              "12  gemini  tea powder  2020   2.0           29\n",
              "13  gemini  tea powder  2020   2.0           29\n",
              "14  gemini  tea powder  2020   2.0           40\n",
              "15  gemini  tea powder  2020   2.0           37\n",
              "16  gemini  tea powder  2020   2.0           34\n",
              "17  gemini  tea powder  2020   2.0           28\n",
              "18  gemini  tea powder  2020   2.0           40\n",
              "19  gemini  tea powder  2020   2.0           35\n",
              "20  gemini  tea powder  2020   2.0           34\n",
              "21  gemini  tea powder  2020   2.0           43\n",
              "22  gemini  tea powder  2020   2.0           45\n",
              "23  gemini  tea powder  2020   2.0           42\n",
              "24  gemini  tea powder  2021   2.0           29\n",
              "25  gemini  tea powder  2021   2.0           43\n",
              "26  gemini  tea powder  2021   2.0           40\n",
              "27  gemini  tea powder  2021   2.0           27\n",
              "28  gemini  tea powder  2021   2.0           40\n",
              "29  gemini  tea powder  2021   2.0           44\n",
              "30  gemini  tea powder  2021   2.0           48\n",
              "31  gemini  tea powder  2021   2.0           49\n",
              "32  gemini  tea powder  2021   2.0           46\n",
              "33  gemini  tea powder  2021   2.0           49\n",
              "34  gemini  tea powder  2021   2.0           45\n",
              "35  gemini  tea powder  2021   2.0           52"
            ]
          },
          "execution_count": 46,
          "metadata": {},
          "output_type": "execute_result"
        }
      ],
      "source": [
        "gta= data.iloc[36:72,[0,1,2,5]].values\n",
        "gta=pd.DataFrame(gta)\n",
        "gta=gta.rename(columns={0:\"product\",1:'year',2:'month',3:'sold product'})\n",
        "gta"
      ]
    },
    {
      "cell_type": "markdown",
      "metadata": {},
      "source": [
        "# xgboost"
      ]
    },
    {
      "cell_type": "code",
      "execution_count": 47,
      "metadata": {},
      "outputs": [
        {
          "name": "stdout",
          "output_type": "stream",
          "text": [
            "Requirement already satisfied: xgboost in c:\\users\\chinnnolla koteshwar\\anaconda3\\lib\\site-packages (1.6.1)\n",
            "Requirement already satisfied: numpy in c:\\users\\chinnnolla koteshwar\\anaconda3\\lib\\site-packages (from xgboost) (1.21.5)\n",
            "Requirement already satisfied: scipy in c:\\users\\chinnnolla koteshwar\\anaconda3\\lib\\site-packages (from xgboost) (1.7.3)\n",
            "[09:09:03] WARNING: C:/Users/Administrator/workspace/xgboost-win64_release_1.6.0/src/objective/regression_obj.cu:203: reg:linear is now deprecated in favor of reg:squarederror.\n"
          ]
        },
        {
          "data": {
            "text/plain": [
              "0.9126395027505434"
            ]
          },
          "execution_count": 47,
          "metadata": {},
          "output_type": "execute_result"
        }
      ],
      "source": [
        "!pip install xgboost\n",
        "import xgboost as xg\n",
        "xgb_r = xg.XGBRegressor(objective ='reg:linear',n_estimators = 10, seed = 123)\n",
        "pipex = make_pipeline(ct,xgb_r)\n",
        "pipex.fit(x_train, y_train)\n",
        "y_pred= pipex.predict(x_test)\n",
        "r2_score(y_test, y_pred)"
      ]
    },
    {
      "cell_type": "code",
      "execution_count": 48,
      "metadata": {},
      "outputs": [
        {
          "data": {
            "text/plain": [
              "array([101.200615], dtype=float32)"
            ]
          },
          "execution_count": 48,
          "metadata": {},
          "output_type": "execute_result"
        }
      ],
      "source": [
        "pipex.predict([['colgate',2022,3]])"
      ]
    },
    {
      "cell_type": "code",
      "execution_count": 49,
      "metadata": {},
      "outputs": [
        {
          "data": {
            "text/plain": [
              "'gemini  tea powder'"
            ]
          },
          "execution_count": 49,
          "metadata": {},
          "output_type": "execute_result"
        }
      ],
      "source": [
        "k=data['product'].unique()\n",
        "k[1]"
      ]
    },
    {
      "cell_type": "markdown",
      "metadata": {},
      "source": [
        "# month vs sold prodects"
      ]
    },
    {
      "cell_type": "code",
      "execution_count": 50,
      "metadata": {},
      "outputs": [],
      "source": [
        "p1=[]\n",
        "p2=[]\n",
        "p3=[]\n",
        "p4=[]\n",
        "p5=[]\n",
        "p6=[]\n",
        "for i in range(0,6):\n",
        "  for j in range(1,13):\n",
        "    if i==0:\n",
        "      p1.append(float(pipex.predict([[k[i],2022,j]])))\n",
        "    if i==1:\n",
        "      p2.append(float(pipex.predict([[k[i],2022,j]])))\n",
        "    if i==2:\n",
        "      p3.append(float(pipex.predict([[k[i],2022,j]])))\n",
        "    if i==3:\n",
        "      p4.append(float(pipex.predict([[k[i],2022,j]])))\n",
        "    if i==4:\n",
        "      p5.append(float(pipex.predict([[k[i],2022,j]])))\n",
        "    if i==5:\n",
        "      p6.append(float(pipex.predict([[k[i],2022,j]])))\n",
        "    \n"
      ]
    },
    {
      "cell_type": "code",
      "execution_count": 51,
      "metadata": {},
      "outputs": [
        {
          "data": {
            "image/png": "[encoded data removed]",
            "text/plain": [
              "<Figure size 432x288 with 1 Axes>"
            ]
          },
          "metadata": {
            "needs_background": "light"
          },
          "output_type": "display_data"
        }
      ],
      "source": [
        "month=data.iloc[:12,[3]].values\n",
        "plt.plot(month,p1,c='red',label='p1')\n",
        "plt.plot(month,p2,c='green',label='p2')\n",
        "plt.plot(month,p3,c='blue',label='p3')\n",
        "plt.plot(month,p4,c='magenta',label='p4')\n",
        "plt.plot(month,p5,c='cyan',label='p5')\n",
        "plt.plot(month,p6,c='black',label='p6')\n",
        "plt.title('month va sold products')\n",
        "plt.xlabel('month')\n",
        "plt.ylabel('products')\n",
        "plt.legend()\n",
        "plt.show()"
      ]
    },
    {
      "cell_type": "code",
      "execution_count": 52,
      "metadata": {},
      "outputs": [
        {
          "data": {
            "text/plain": [
              "[88.90995025634766,\n",
              " 90.37045288085938,\n",
              " 101.20061492919922,\n",
              " 101.20061492919922,\n",
              " 101.20061492919922,\n",
              " 101.20061492919922,\n",
              " 101.20061492919922,\n",
              " 102.50165557861328,\n",
              " 102.50165557861328,\n",
              " 102.50165557861328,\n",
              " 102.50165557861328,\n",
              " 102.46593475341797]"
            ]
          },
          "execution_count": 52,
          "metadata": {},
          "output_type": "execute_result"
        }
      ],
      "source": [
        "p1"
      ]
    },
    {
      "cell_type": "code",
      "execution_count": 53,
      "metadata": {},
      "outputs": [
        {
          "data": {
            "text/plain": [
              "[<matplotlib.lines.Line2D at 0x201c1c68610>]"
            ]
          },
          "execution_count": 53,
          "metadata": {},
          "output_type": "execute_result"
        },
        {
          "data": {
            "image/png": "[encoded data removed]",
            "text/plain": [
              "<Figure size 432x288 with 1 Axes>"
            ]
          },
          "metadata": {
            "needs_background": "light"
          },
          "output_type": "display_data"
        }
      ],
      "source": [
        "plt.plot(month,p6,c='black',label='p6')"
      ]
    },
    {
      "cell_type": "markdown",
      "metadata": {
        "id": "8PMtTyh1L21i"
      },
      "source": [
        "# pickle"
      ]
    },
    {
      "cell_type": "code",
      "execution_count": null,
      "metadata": {
        "id": "m5TbgpslF-PQ"
      },
      "outputs": [],
      "source": [
        "import pickle\n",
        "pickle.dump(piper,open('dpprod.pkl','wb'))"
      ]
    },
    {
      "cell_type": "code",
      "execution_count": 2,
      "metadata": {},
      "outputs": [
        {
          "data": {
            "text/plain": [
              "3"
            ]
          },
          "execution_count": 2,
          "metadata": {},
          "output_type": "execute_result"
        }
      ],
      "source": []
    }
  ],
  "metadata": {
    "colab": {
      "collapsed_sections": [],
      "name": "product1.ipynb",
      "provenance": []
    },
    "kernelspec": {
      "display_name": "Python 3.9.12 ('base')",
      "language": "python",
      "name": "python3"
    },
    "language_info": {
      "codemirror_mode": {
        "name": "ipython",
        "version": 3
      },
      "file_extension": ".py",
      "mimetype": "text/x-python",
      "name": "python",
      "nbconvert_exporter": "python",
      "pygments_lexer": "ipython3",
      "version": "3.9.12"
    },
    "vscode": {
      "interpreter": {
        "hash": "b675168525ba0a932ead71e7b882d73c655b942e699b01c95318e9e6721acfe6"
      }
    }
  },
  "nbformat": 4,
  "nbformat_minor": 0
}
